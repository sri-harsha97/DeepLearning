{
  "nbformat": 4,
  "nbformat_minor": 0,
  "metadata": {
    "colab": {
      "provenance": [],
      "collapsed_sections": []
    },
    "kernelspec": {
      "name": "python3",
      "display_name": "Python 3"
    },
    "language_info": {
      "name": "python"
    }
  },
  "cells": [
    {
      "cell_type": "code",
      "execution_count": null,
      "metadata": {
        "colab": {
          "base_uri": "https://localhost:8080/"
        },
        "id": "QJ710cMjh6nY",
        "outputId": "283ea2a1-a899-41d2-b896-42b5be53ba67"
      },
      "outputs": [
        {
          "output_type": "stream",
          "name": "stdout",
          "text": [
            "Mounted at /content/drive\n"
          ]
        }
      ],
      "source": [
        "#Using Google Drive for loading the data(uploaded all the datafiles to drive  under deep-learning-for-msc-coursework-2022-2 folder\n",
        "from google.colab import drive\n",
        "drive.mount('/content/drive')"
      ]
    },
    {
      "cell_type": "code",
      "source": [
        "#importing all the required packages\n",
        "from __future__ import print_function\n",
        "#%matplotlib inline\n",
        "import argparse\n",
        "import os\n",
        "import random\n",
        "import torch\n",
        "import torch.nn as nn\n",
        "import torch.nn.parallel\n",
        "import torch.backends.cudnn as cudnn\n",
        "import torch.optim as optim\n",
        "import torch.utils.data\n",
        "import torchvision.datasets as dset\n",
        "import torchvision.transforms as transforms\n",
        "import torchvision.utils as vutils\n",
        "import numpy as np\n",
        "import matplotlib.pyplot as plt\n",
        "import matplotlib.animation as animation\n",
        "from IPython.display import HTML\n",
        "import pathlib\n",
        "import glob\n",
        "\n",
        "\n",
        "import random\n",
        "\n",
        "random.seed(100)\n",
        "\n",
        "torch.manual_seed(100)\n",
        "\n",
        "from torch.autograd import Variable\n",
        "from torchvision.models import squeezenet1_1\n",
        "import torch.functional as F\n",
        "from io import open\n",
        "import os\n",
        "from PIL import Image\n",
        "import pathlib\n",
        "import glob\n",
        "import cv2"
      ],
      "metadata": {
        "id": "2o9Tq57Nh9zE"
      },
      "execution_count": null,
      "outputs": []
    },
    {
      "cell_type": "code",
      "source": [],
      "metadata": {
        "id": "qTuiYCEvR55M"
      },
      "execution_count": null,
      "outputs": []
    },
    {
      "cell_type": "code",
      "source": [
        "trainroot = \"/content/drive/My Drive/deep-learning-for-msc-coursework-2022-2/train/train\"\n",
        "testroot = \"/content/drive/My Drive/deep-learning-for-msc-coursework-2022-2/test\"\n",
        "RANDOM_SEED = 123\n",
        "# Number of workers for dataloader\n",
        "workers = 2\n",
        "\n",
        "# Batch size during training\n",
        "batch_size = 64\n",
        "\n",
        "# Spatial size of training images which is 32*32 \n",
        "\n",
        "image_size = 32\n",
        "\n",
        "# Learning rate for optimizers\n",
        "lr = 0.0002\n",
        "\n",
        "\n",
        "# Number of GPUs available. Use 0 for CPU mode.\n",
        "ngpu = 1"
      ],
      "metadata": {
        "id": "Qagecsp2iHHk"
      },
      "execution_count": null,
      "outputs": []
    },
    {
      "cell_type": "code",
      "source": [
        "\n",
        "dataset = dset.ImageFolder(root=trainroot,\n",
        "                           transform=transforms.Compose([\n",
        "                               transforms.Resize(image_size),\n",
        "                               transforms.RandomHorizontalFlip(),\n",
        "                               transforms.ToTensor(),\n",
        "                               transforms.Normalize((0.5, 0.5, 0.5), (0.5, 0.5, 0.5)),\n",
        "                           ]))\n",
        "# Create the dataloader\n",
        "print(len(dataset))\n",
        "train_len = len(dataset) - 230\n",
        "train_set, val_set = torch.utils.data.random_split(dataset, [train_len, 230])\n",
        "train_data = torch.utils.data.DataLoader(train_set, batch_size=batch_size,\n",
        " \n",
        "                                         shuffle=True, )\n",
        "print(len(train_data))\n",
        "# Decide which device we want to run on\n",
        "device = torch.device(\"cuda:0\" if (torch.cuda.is_available() and ngpu > 0) else \"cpu\")"
      ],
      "metadata": {
        "colab": {
          "base_uri": "https://localhost:8080/"
        },
        "id": "w-TBiEITiQt_",
        "outputId": "8fb1c364-ec17-4a4d-a534-39889c48e9e1"
      },
      "execution_count": null,
      "outputs": [
        {
          "output_type": "stream",
          "name": "stdout",
          "text": [
            "1730\n",
            "24\n"
          ]
        }
      ]
    },
    {
      "cell_type": "code",
      "source": [
        "### Examining class names\n",
        "root = pathlib.Path(trainroot)\n",
        "classes = sorted([j.name.split('/')[-1] for j in root.iterdir()])\n",
        "classes"
      ],
      "metadata": {
        "colab": {
          "base_uri": "https://localhost:8080/"
        },
        "id": "0i0WCi8ijy31",
        "outputId": "d7e7edd8-4e33-4e90-d6bd-ba578d300213"
      },
      "execution_count": null,
      "outputs": [
        {
          "output_type": "execute_result",
          "data": {
            "text/plain": [
              "['Cancer', 'Connective', 'Immune', 'Normal']"
            ]
          },
          "metadata": {},
          "execution_count": 5
        }
      ]
    },
    {
      "cell_type": "code",
      "source": [],
      "metadata": {
        "id": "X0u26VdF8vYr"
      },
      "execution_count": null,
      "outputs": []
    },
    {
      "cell_type": "code",
      "source": [
        "\n",
        "## CNN Network\n",
        "class ConvNet(nn.Module):\n",
        "  def __init__(self,num_classes = 4):\n",
        "    super(ConvNet,self).__init__()\n",
        "\n",
        "    #Input shape = (32,3,32,32)\n",
        "    #1\n",
        "    self.conv1 = nn.Conv2d(in_channels = 3, out_channels = 12, kernel_size = 3,stride = 1, padding =1)\n",
        "    #shape = (32,12,32,32)\n",
        "    self.bn1= nn.BatchNorm2d(num_features = 12)\n",
        "    self.relu1 = nn.ReLU()\n",
        "    #shape = (32,12,32,32)\n",
        "    #2\n",
        "    self.pool = nn.MaxPool2d(kernel_size = 2)\n",
        "    #shape = (32,12,16,16)\n",
        "    #3\n",
        "    self.conv2 = nn.Conv2d(in_channels = 12, out_channels = 20, kernel_size = 3,stride = 1, padding =1)\n",
        "    self.relu2 = nn.ReLU()\n",
        "    #4\n",
        "    \n",
        "    self.conv3 = nn.Conv2d(in_channels = 20, out_channels = 20, kernel_size = 3,stride = 1, padding =1)\n",
        "    self.relu3 = nn.ReLU()\n",
        "   \n",
        "    #5\n",
        "    self.conv4 = nn.Conv2d(in_channels = 20, out_channels = 20, kernel_size = 3,stride = 1, padding =1)\n",
        "    self.relu4 = nn.ReLU()\n",
        "   \n",
        "   #6\n",
        "    self.conv5 = nn.Conv2d(in_channels = 20, out_channels = 32, kernel_size = 3,stride = 1, padding =1)\n",
        "    #shape = (32,12,32,32)\n",
        "    self.bn5= nn.BatchNorm2d(num_features = 32)\n",
        "    self.relu5 = nn.ReLU()\n",
        "    #shape = (32,12,16,16)\n",
        "    # Fully connected #7\n",
        "    self.fc = nn.Linear(in_features = 32*16*16, out_features = num_classes)\n",
        "    \n",
        "\n",
        "\n",
        "  def forward(self,input):\n",
        "    output = self.conv1(input)\n",
        "    output = self.bn1(output)\n",
        "    output = self.relu1(output)\n",
        "\n",
        "    output = self.pool(output)\n",
        "\n",
        "    output = self.conv2(output)\n",
        "    output = self.relu2(output)\n",
        "   \n",
        "  \n",
        "    output = self.conv3(output)\n",
        "    output = self.relu3(output)\n",
        "  \n",
        "\n",
        "    output = self.conv4(output)\n",
        "    output = self.relu4(output)\n",
        " \n",
        "\n",
        "    output = self.conv5(output)\n",
        "    output = self.bn5(output)\n",
        "    output = self.relu5(output)   \n",
        "    \n",
        "\n",
        "\n",
        "    output= output.view(-1,32*16*16)\n",
        "    output = self.fc(output)\n",
        "    return output\n"
      ],
      "metadata": {
        "id": "tHN6BCeWkQVz"
      },
      "execution_count": null,
      "outputs": []
    },
    {
      "cell_type": "code",
      "source": [
        "#Creating the model\n",
        "model = ConvNet(num_classes = 4).to(device)"
      ],
      "metadata": {
        "id": "nJOyOjBJpMbO"
      },
      "execution_count": null,
      "outputs": []
    },
    {
      "cell_type": "code",
      "source": [
        "\n",
        "#Using Stochastic Gradient Descent for the optimizer\n",
        "optimizer = optim.SGD(model.parameters(), lr=lr)\n",
        "#using CrossEntropy Loss for the cross function and setting up the weights for the 4 classes\n",
        "loss_function = nn.CrossEntropyLoss(weight = torch.tensor([1,1,1,1.5]))"
      ],
      "metadata": {
        "id": "TZBAcWaepc1P"
      },
      "execution_count": null,
      "outputs": []
    },
    {
      "cell_type": "code",
      "source": [],
      "metadata": {
        "id": "0ucdpp0ns5EO"
      },
      "execution_count": null,
      "outputs": []
    },
    {
      "cell_type": "code",
      "source": [
        "import datetime\n",
        "epoch_print_gap = 1\n",
        "#Defining the training function(referred lab material)\n",
        "def training_loop(n_epochs, optimizer, model, device, loss_fn, train_loader):\n",
        "    model = model.to(device)\n",
        "    for epoch in range(1, n_epochs + 1):\n",
        "      \n",
        "        loss_train = 0.0\n",
        "        for imgs, labels in train_loader:\n",
        "            outputs = model(imgs.to(device))\n",
        "            loss = loss_fn(outputs, labels.to(device))\n",
        "            \n",
        "            optimizer.zero_grad()\n",
        "            loss.backward()\n",
        "            optimizer.step()\n",
        "            \n",
        "            loss_train += loss.item()\n",
        "            \n",
        "        if epoch == 1 or epoch % epoch_print_gap == 0:\n",
        "            print('{} Epoch {}, Training loss {}'.format(\n",
        "                datetime.datetime.now(), epoch, float(loss_train)))"
      ],
      "metadata": {
        "id": "tocYX5TEtTBY"
      },
      "execution_count": null,
      "outputs": []
    },
    {
      "cell_type": "code",
      "source": [
        "#Training the model\n",
        "training_loop(\n",
        "    n_epochs = 11, \n",
        "    optimizer = optimizer,\n",
        "    model = model, \n",
        "    device = device,\n",
        "    loss_fn = loss_function,\n",
        "    train_loader = train_data,\n",
        ")\n"
      ],
      "metadata": {
        "colab": {
          "base_uri": "https://localhost:8080/"
        },
        "id": "a_mKr5pltsVO",
        "outputId": "6573808a-18ee-4143-bc0b-39452e31cf4f"
      },
      "execution_count": null,
      "outputs": [
        {
          "output_type": "stream",
          "name": "stdout",
          "text": [
            "2022-03-25 14:33:54.515780 Epoch 1, Training loss 31.9187833070755\n",
            "2022-03-25 14:34:01.003705 Epoch 2, Training loss 26.37728577852249\n",
            "2022-03-25 14:34:06.980565 Epoch 3, Training loss 22.567627608776093\n",
            "2022-03-25 14:34:12.350607 Epoch 4, Training loss 19.64997363090515\n",
            "2022-03-25 14:34:17.939874 Epoch 5, Training loss 17.633263170719147\n",
            "2022-03-25 14:34:23.052881 Epoch 6, Training loss 15.855398058891296\n",
            "2022-03-25 14:34:27.915600 Epoch 7, Training loss 14.834021508693695\n",
            "2022-03-25 14:34:32.867570 Epoch 8, Training loss 13.644444465637207\n",
            "2022-03-25 14:34:37.670852 Epoch 9, Training loss 12.788468182086945\n",
            "2022-03-25 14:34:42.682320 Epoch 10, Training loss 12.351852983236313\n",
            "2022-03-25 14:34:47.615044 Epoch 11, Training loss 11.481696248054504\n"
          ]
        }
      ]
    },
    {
      "cell_type": "code",
      "source": [
        "#Defining the validation loop (referred lab material)\n",
        "def validation_loop(model, device, test_loader):\n",
        "    model.eval()\n",
        "    model = model.to(device)\n",
        "    test_loss = 0\n",
        "    correct = 0\n",
        "    with torch.no_grad():\n",
        "        for data, target in test_loader:\n",
        "            data, target = data.to(device), target.to(device)\n",
        "            output = model(data)\n",
        "       \n",
        "            test_loss += torch.nn.functional.cross_entropy(output, target, reduction='sum').item()  # sum up batch loss\n",
        "            pred = output.argmax(dim=1, keepdim=True)  # get the index of the max log-probability\n",
        "            correct += pred.eq(target.view_as(pred)).sum().item()\n",
        "\n",
        "    test_loss /= len(test_loader.dataset)\n",
        "\n",
        "    print('\\nTest set: Average loss: {:.4f}, Accuracy: {}/{} ({:.0f}%)\\n'.format(\n",
        "        test_loss, correct, len(test_loader.dataset),\n",
        "        100. * correct / len(test_loader.dataset)))"
      ],
      "metadata": {
        "id": "OGKhLuOz9e58"
      },
      "execution_count": null,
      "outputs": []
    },
    {
      "cell_type": "code",
      "source": [
        "#Loading the validation set\n",
        "val_data = torch.utils.data.DataLoader(val_set)\n",
        " \n",
        "# Not using RandomHorizontalFlip as we don't require any kind of variation while we are testing                                    )\n",
        "transformer=transforms.Compose([\n",
        "    transforms.Resize((32,32)),\n",
        "    transforms.ToTensor(),  \n",
        "    transforms.Normalize([0.5,0.5,0.5], # 0-1 to [-1,1] \n",
        "                        [0.5,0.5,0.5])\n",
        "])\n",
        "validation_loop(model = model, device = device, test_loader = val_data)\n"
      ],
      "metadata": {
        "colab": {
          "base_uri": "https://localhost:8080/"
        },
        "id": "PtLM2fxQ-YpT",
        "outputId": "24342fb6-a99d-4cd8-e2a4-3c20c114da7c"
      },
      "execution_count": null,
      "outputs": [
        {
          "output_type": "stream",
          "name": "stdout",
          "text": [
            "\n",
            "Test set: Average loss: 0.4909, Accuracy: 201/230 (87%)\n",
            "\n"
          ]
        }
      ]
    },
    {
      "cell_type": "code",
      "source": [
        "#Defining the prediction function\n",
        "def predict_loop(img_path,transformer):\n",
        "    \n",
        "    images=Image.open(img_path)\n",
        "    \n",
        "    image_tranformed=transformer(images).float()\n",
        "    \n",
        "    \n",
        "    image_tranformed=image_tranformed.unsqueeze_(0)\n",
        "    \n",
        "    if torch.cuda.is_available():\n",
        "        image_tranformed.cuda()\n",
        "        \n",
        "    input_variable=Variable(image_tranformed)\n",
        "    \n",
        "    output_val=model(input_variable)\n",
        "    \n",
        "    index_val=output_val.data.numpy().argmax()\n",
        "    \n",
        "    pred=classes[index_val]\n",
        "    \n",
        "    return pred"
      ],
      "metadata": {
        "id": "cApnAZiZmmhR"
      },
      "execution_count": null,
      "outputs": []
    },
    {
      "cell_type": "code",
      "source": [],
      "metadata": {
        "id": "poTigHMzCYtt"
      },
      "execution_count": null,
      "outputs": []
    },
    {
      "cell_type": "code",
      "source": [
        "#Using the images path\n",
        "images_path=glob.glob(testroot+'/test'+ '/*.png')\n"
      ],
      "metadata": {
        "id": "SEv2sKxOvDDI"
      },
      "execution_count": null,
      "outputs": []
    },
    {
      "cell_type": "code",
      "source": [
        "#Using the Transforms similar to the validation set\n",
        "transformer=transforms.Compose([\n",
        "    transforms.Resize((32,32)),\n",
        "    transforms.ToTensor(),  \n",
        "    transforms.Normalize([0.5,0.5,0.5],\n",
        "                        [0.5,0.5,0.5])\n",
        "])\n",
        "\n",
        "\n",
        "prediction_dict={}\n",
        "#Storing all the predicted values to the dictionary\n",
        "for i in images_path:\n",
        "    prediction_dict[i[i.rfind('/')+1:]]=predict_loop(i,transformer)"
      ],
      "metadata": {
        "id": "Vks57trLv4pR"
      },
      "execution_count": null,
      "outputs": []
    },
    {
      "cell_type": "code",
      "source": [
        "#printing out the keys\n",
        "prediction_dict.keys()"
      ],
      "metadata": {
        "colab": {
          "base_uri": "https://localhost:8080/"
        },
        "id": "YC1d9a15wAdd",
        "outputId": "778865de-e25b-4f96-deb0-8b37e85a5e74"
      },
      "execution_count": null,
      "outputs": [
        {
          "output_type": "execute_result",
          "data": {
            "text/plain": [
              "dict_keys(['tile7059.png', 'tile7134.png', 'tile7212.png', 'tile7014.png', 'tile7047.png', 'tile7151.png', 'tile7039.png', 'tile7095.png', 'tile7044.png', 'tile7223.png', 'tile7116.png', 'tile7068.png', 'tile7132.png', 'tile7110.png', 'tile7181.png', 'tile7137.png', 'tile7027.png', 'tile7067.png', 'tile7043.png', 'tile7013.png', 'tile7228.png', 'tile7147.png', 'tile7155.png', 'tile7078.png', 'tile7054.png', 'tile7020.png', 'tile7009.png', 'tile7090.png', 'tile7136.png', 'tile7037.png', 'tile7081.png', 'tile7237.png', 'tile7225.png', 'tile7156.png', 'tile7204.png', 'tile7108.png', 'tile7213.png', 'tile7154.png', 'tile7006.png', 'tile7102.png', 'tile7606.png', 'tile7473.png', 'tile7457.png', 'tile7638.png', 'tile7454.png', 'tile7541.png', 'tile7564.png', 'tile7559.png', 'tile7615.png', 'tile7480.png', 'tile7589.png', 'tile7374.png', 'tile7540.png', 'tile7437.png', 'tile7527.png', 'tile7324.png', 'tile7420.png', 'tile7600.png', 'tile7568.png', 'tile7572.png', 'tile7471.png', 'tile7630.png', 'tile7455.png', 'tile7500.png', 'tile7538.png', 'tile7556.png', 'tile7588.png', 'tile7315.png', 'tile7346.png', 'tile7624.png', 'tile7474.png', 'tile7661.png', 'tile7255.png', 'tile7477.png', 'tile7577.png', 'tile7554.png', 'tile7582.png', 'tile7408.png', 'tile7380.png', 'tile7674.png', 'tile7625.png', 'tile7482.png', 'tile7328.png', 'tile7334.png', 'tile7472.png', 'tile7361.png', 'tile7519.png', 'tile7365.png', 'tile7605.png', 'tile7287.png', 'tile7358.png', 'tile7518.png', 'tile7531.png', 'tile7293.png', 'tile7266.png', 'tile7642.png', 'tile7448.png', 'tile7244.png', 'tile7366.png', 'tile7607.png', 'tile7613.png', 'tile7262.png', 'tile7446.png', 'tile7682.png', 'tile7536.png', 'tile7484.png', 'tile7578.png', 'tile7275.png', 'tile7520.png', 'tile7294.png', 'tile7655.png', 'tile7441.png', 'tile7375.png', 'tile7249.png', 'tile7422.png', 'tile7336.png', 'tile7332.png', 'tile7648.png', 'tile7550.png', 'tile7312.png', 'tile7658.png', 'tile7640.png', 'tile7517.png', 'tile7355.png', 'tile7597.png', 'tile7575.png', 'tile7251.png', 'tile7268.png', 'tile7641.png', 'tile7657.png', 'tile7435.png', 'tile7529.png', 'tile7307.png', 'tile7475.png', 'tile7353.png', 'tile7276.png', 'tile7393.png', 'tile7634.png', 'tile7581.png', 'tile7470.png', 'tile7544.png', 'tile7417.png', 'tile7652.png', 'tile7598.png', 'tile7523.png', 'tile7410.png', 'tile7354.png', 'tile7573.png', 'tile7561.png', 'tile7466.png', 'tile7670.png', 'tile7512.png', 'tile7459.png', 'tile7429.png', 'tile7390.png', 'tile7425.png', 'tile7433.png', 'tile7632.png', 'tile7388.png', 'tile7633.png', 'tile7495.png', 'tile7257.png', 'tile7331.png', 'tile7637.png', 'tile7405.png', 'tile7415.png', 'tile7626.png', 'tile7241.png', 'tile7250.png', 'tile7646.png', 'tile7502.png', 'tile7462.png', 'tile7329.png', 'tile7614.png', 'tile7483.png', 'tile7305.png', 'tile7304.png', 'tile7498.png', 'tile7618.png', 'tile7631.png', 'tile7406.png', 'tile7428.png', 'tile7553.png', 'tile7569.png', 'tile7533.png', 'tile7430.png', 'tile7617.png', 'tile7656.png', 'tile7595.png', 'tile7400.png', 'tile7492.png', 'tile7387.png', 'tile7571.png', 'tile7298.png', 'tile7532.png', 'tile7431.png', 'tile7297.png', 'tile7423.png', 'tile7552.png', 'tile7360.png', 'tile7666.png', 'tile7322.png', 'tile7659.png', 'tile7333.png', 'tile7362.png', 'tile7261.png', 'tile7608.png', 'tile7447.png', 'tile7242.png', 'tile7464.png', 'tile7427.png', 'tile7570.png', 'tile7486.png', 'tile7273.png', 'tile7401.png', 'tile7302.png', 'tile7563.png', 'tile7539.png', 'tile7651.png', 'tile7303.png', 'tile7548.png', 'tile7445.png', 'tile7592.png', 'tile7344.png', 'tile7412.png', 'tile7599.png', 'tile7591.png', 'tile7325.png', 'tile7436.png', 'tile7280.png', 'tile7507.png', 'tile7403.png', 'tile7465.png', 'tile7555.png', 'tile7343.png', 'tile7267.png', 'tile7414.png', 'tile7282.png', 'tile7314.png', 'tile7439.png', 'tile7311.png', 'tile7463.png', 'tile7399.png', 'tile7620.png', 'tile7619.png', 'tile7340.png', 'tile7392.png', 'tile7488.png', 'tile7653.png', 'tile7449.png', 'tile7628.png', 'tile7279.png', 'tile7491.png', 'tile7258.png', 'tile7560.png', 'tile7443.png', 'tile7493.png', 'tile7511.png', 'tile7534.png', 'tile7604.png', 'tile7368.png', 'tile7649.png', 'tile7679.png', 'tile7574.png', 'tile7419.png', 'tile7348.png', 'tile7252.png', 'tile7516.png', 'tile7514.png', 'tile7680.png', 'tile7636.png', 'tile7377.png', 'tile7635.png', 'tile7629.png', 'tile7432.png', 'tile7668.png', 'tile7372.png', 'tile7567.png', 'tile7593.png', 'tile7256.png', 'tile7667.png', 'tile7382.png', 'tile7310.png', 'tile7386.png', 'tile7288.png', 'tile7253.png', 'tile7345.png', 'tile7409.png', 'tile7535.png', 'tile7647.png', 'tile7547.png', 'tile7458.png', 'tile7411.png', 'tile7313.png', 'tile7673.png', 'tile7583.png', 'tile7347.png', 'tile7678.png', 'tile7356.png', 'tile7270.png', 'tile7622.png', 'tile7319.png', 'tile7610.png', 'tile7296.png', 'tile7349.png', 'tile7528.png', 'tile7596.png', 'tile7301.png', 'tile7566.png', 'tile7396.png', 'tile7499.png', 'tile7295.png', 'tile7481.png', 'tile7269.png', 'tile7584.png', 'tile7404.png', 'tile7309.png', 'tile7300.png', 'tile7318.png', 'tile7264.png', 'tile7378.png', 'tile7627.png', 'tile7289.png', 'tile7330.png', 'tile7660.png', 'tile7664.png', 'tile7254.png', 'tile7451.png', 'tile7639.png', 'tile7669.png', 'tile7263.png', 'tile7476.png', 'tile7623.png', 'tile7453.png', 'tile7590.png', 'tile7278.png', 'tile7367.png', 'tile7468.png', 'tile7327.png', 'tile7506.png', 'tile7579.png', 'tile7522.png', 'tile7363.png', 'tile7524.png', 'tile7509.png', 'tile7490.png', 'tile7381.png', 'tile7478.png', 'tile7609.png', 'tile7672.png', 'tile7530.png', 'tile7644.png', 'tile7308.png', 'tile7611.png', 'tile7650.png', 'tile7384.png', 'tile7643.png', 'tile7602.png', 'tile7621.png', 'tile7339.png', 'tile7351.png', 'tile7341.png', 'tile7316.png', 'tile7665.png', 'tile7416.png', 'tile7370.png', 'tile7394.png', 'tile7277.png', 'tile7290.png', 'tile7515.png', 'tile7434.png', 'tile7542.png', 'tile7456.png', 'tile7379.png', 'tile7397.png', 'tile7496.png', 'tile7371.png', 'tile7342.png', 'tile7513.png', 'tile7306.png', 'tile7546.png', 'tile7291.png', 'tile7469.png', 'tile7259.png', 'tile7662.png', 'tile7285.png', 'tile7389.png', 'tile7364.png', 'tile7317.png', 'tile7274.png', 'tile7337.png', 'tile7551.png', 'tile7489.png', 'tile7594.png', 'tile7501.png', 'tile7565.png', 'tile7335.png', 'tile7562.png', 'tile7654.png', 'tile7461.png', 'tile7557.png', 'tile7320.png', 'tile7603.png', 'tile7580.png', 'tile7395.png', 'tile7467.png', 'tile7281.png', 'tile7601.png', 'tile7299.png', 'tile7494.png', 'tile7525.png', 'tile7369.png', 'tile7558.png', 'tile7421.png', 'tile7576.png', 'tile7286.png', 'tile7357.png', 'tile7444.png', 'tile7326.png', 'tile7485.png', 'tile7373.png', 'tile7585.png', 'tile7418.png', 'tile7508.png', 'tile7505.png', 'tile7586.png', 'tile7283.png', 'tile7497.png', 'tile7663.png', 'tile7675.png', 'tile7460.png', 'tile7398.png', 'tile7504.png', 'tile7260.png', 'tile7385.png', 'tile7510.png', 'tile7359.png', 'tile7247.png', 'tile7545.png', 'tile7479.png', 'tile7248.png', 'tile7424.png', 'tile7413.png', 'tile7407.png', 'tile7442.png', 'tile7671.png', 'tile7245.png', 'tile7438.png', 'tile7612.png', 'tile7246.png', 'tile7587.png', 'tile7352.png', 'tile7391.png', 'tile7645.png', 'tile7272.png', 'tile7450.png', 'tile7549.png', 'tile7452.png', 'tile7243.png', 'tile7521.png', 'tile7426.png', 'tile7284.png', 'tile7265.png', 'tile7537.png', 'tile7271.png', 'tile7681.png', 'tile7440.png', 'tile7677.png', 'tile7487.png', 'tile7321.png', 'tile7676.png', 'tile7376.png', 'tile7616.png', 'tile7526.png', 'tile7323.png', 'tile7543.png', 'tile7292.png', 'tile7503.png', 'tile7383.png', 'tile7402.png', 'tile7683.png', 'tile7338.png', 'tile7350.png', 'tile7769.png', 'tile7952.png', 'tile7780.png', 'tile7754.png', 'tile7792.png', 'tile7905.png', 'tile7934.png', 'tile7807.png', 'tile7711.png', 'tile7999.png', 'tile7692.png', 'tile7821.png', 'tile7982.png', 'tile7939.png', 'tile7755.png', 'tile8011.png', 'tile7770.png', 'tile7788.png', 'tile7827.png', 'tile7809.png', 'tile7726.png', 'tile7885.png', 'tile7945.png', 'tile7967.png', 'tile7935.png', 'tile7697.png', 'tile7975.png', 'tile7833.png', 'tile7849.png', 'tile7759.png', 'tile7703.png', 'tile7971.png', 'tile8002.png', 'tile7801.png', 'tile7906.png', 'tile7997.png', 'tile7758.png', 'tile7858.png', 'tile7899.png', 'tile7747.png', 'tile7820.png', 'tile7887.png', 'tile7811.png', 'tile7784.png', 'tile8007.png', 'tile8021.png', 'tile7913.png', 'tile7838.png', 'tile7947.png', 'tile7720.png', 'tile7734.png', 'tile7890.png', 'tile7930.png', 'tile7857.png', 'tile7996.png', 'tile7710.png', 'tile7767.png', 'tile7785.png', 'tile7791.png', 'tile7728.png', 'tile7880.png', 'tile8026.png', 'tile7786.png', 'tile7696.png', 'tile7955.png', 'tile7808.png', 'tile7917.png', 'tile7691.png', 'tile7926.png', 'tile7974.png', 'tile7942.png', 'tile7978.png', 'tile7881.png', 'tile7966.png', 'tile7819.png', 'tile8012.png', 'tile7908.png', 'tile7948.png', 'tile7774.png', 'tile7723.png', 'tile7936.png', 'tile7739.png', 'tile7829.png', 'tile7959.png', 'tile7712.png', 'tile7868.png', 'tile7781.png', 'tile7954.png', 'tile7727.png', 'tile7837.png', 'tile8016.png', 'tile7823.png', 'tile8020.png', 'tile7718.png', 'tile7932.png', 'tile8023.png', 'tile7839.png', 'tile7902.png', 'tile7816.png', 'tile7912.png', 'tile7715.png', 'tile7782.png', 'tile7840.png', 'tile7870.png', 'tile7976.png', 'tile7969.png', 'tile7700.png', 'tile7866.png', 'tile7860.png', 'tile8022.png', 'tile7957.png', 'tile7847.png', 'tile7707.png', 'tile8015.png', 'tile8004.png', 'tile7927.png', 'tile7910.png', 'tile7853.png', 'tile7686.png', 'tile7690.png', 'tile7851.png', 'tile8000.png', 'tile7909.png', 'tile7961.png', 'tile7771.png', 'tile7848.png', 'tile7850.png', 'tile7842.png', 'tile7751.png', 'tile7888.png', 'tile7826.png', 'tile7845.png', 'tile7812.png', 'tile7992.png', 'tile8014.png', 'tile7736.png', 'tile7743.png', 'tile7904.png', 'tile7702.png', 'tile7893.png', 'tile7761.png', 'tile7745.png', 'tile7737.png', 'tile7844.png', 'tile7735.png', 'tile7805.png', 'tile7874.png', 'tile7740.png', 'tile7752.png', 'tile7946.png', 'tile7741.png', 'tile8008.png', 'tile7919.png', 'tile7883.png', 'tile7986.png', 'tile7854.png', 'tile7923.png', 'tile7879.png', 'tile7977.png', 'tile8018.png', 'tile7773.png', 'tile8001.png', 'tile7989.png', 'tile7750.png', 'tile7796.png', 'tile7794.png', 'tile7956.png', 'tile7766.png', 'tile7824.png', 'tile7960.png', 'tile7962.png', 'tile7799.png', 'tile7863.png', 'tile7886.png', 'tile7928.png', 'tile7856.png', 'tile7744.png', 'tile8024.png', 'tile8027.png', 'tile7835.png', 'tile7980.png', 'tile7898.png', 'tile7719.png', 'tile7973.png', 'tile7802.png', 'tile7990.png', 'tile7760.png', 'tile7903.png', 'tile7953.png', 'tile7798.png', 'tile7722.png', 'tile7995.png', 'tile7862.png', 'tile7882.png', 'tile7872.png', 'tile7689.png', 'tile7877.png', 'tile7797.png', 'tile7749.png', 'tile7869.png', 'tile7724.png', 'tile7876.png', 'tile7713.png', 'tile7933.png', 'tile7733.png', 'tile7864.png', 'tile7836.png', 'tile7763.png', 'tile7859.png', 'tile7775.png', 'tile7915.png', 'tile7810.png', 'tile7991.png', 'tile7806.png', 'tile8010.png', 'tile7871.png', 'tile7993.png', 'tile7688.png', 'tile7994.png', 'tile7958.png', 'tile7931.png', 'tile7746.png', 'tile7748.png', 'tile7937.png', 'tile7920.png', 'tile8028.png', 'tile7861.png', 'tile7940.png', 'tile7721.png', 'tile7701.png', 'tile7757.png', 'tile7815.png', 'tile7921.png', 'tile7772.png', 'tile7704.png', 'tile7695.png', 'tile7742.png', 'tile7984.png', 'tile7783.png', 'tile7914.png', 'tile7987.png', 'tile7813.png', 'tile7705.png', 'tile7818.png', 'tile7814.png', 'tile7867.png', 'tile7941.png', 'tile7916.png', 'tile7768.png', 'tile7717.png', 'tile7950.png', 'tile7693.png', 'tile7949.png', 'tile7892.png', 'tile7878.png', 'tile7834.png', 'tile7789.png', 'tile7925.png', 'tile7716.png', 'tile7846.png', 'tile7889.png', 'tile7778.png', 'tile7998.png', 'tile7873.png', 'tile7699.png', 'tile7900.png', 'tile7762.png', 'tile7828.png', 'tile7943.png', 'tile7981.png', 'tile7731.png', 'tile7804.png', 'tile7714.png', 'tile8003.png', 'tile8006.png', 'tile7979.png', 'tile7938.png', 'tile7776.png', 'tile7822.png', 'tile7963.png', 'tile7708.png', 'tile7729.png', 'tile7725.png', 'tile7694.png', 'tile7709.png', 'tile7790.png', 'tile8025.png', 'tile8009.png', 'tile7777.png', 'tile7918.png', 'tile7830.png', 'tile8017.png', 'tile7698.png', 'tile7732.png', 'tile7841.png', 'tile7753.png', 'tile7803.png', 'tile7787.png', 'tile7983.png', 'tile7985.png', 'tile7765.png', 'tile7875.png', 'tile7865.png', 'tile7970.png', 'tile7951.png', 'tile7988.png', 'tile7795.png', 'tile7895.png', 'tile7706.png', 'tile7738.png', 'tile7965.png', 'tile7911.png', 'tile7825.png', 'tile7832.png', 'tile7884.png', 'tile7779.png', 'tile7756.png', 'tile7907.png', 'tile7901.png', 'tile7894.png', 'tile7684.png', 'tile7897.png', 'tile7843.png', 'tile7855.png', 'tile7685.png', 'tile8019.png', 'tile8005.png', 'tile7831.png', 'tile7800.png', 'tile7964.png', 'tile7896.png', 'tile7817.png', 'tile7968.png', 'tile7922.png', 'tile7764.png', 'tile7687.png', 'tile7793.png', 'tile7929.png', 'tile7891.png', 'tile7972.png', 'tile7924.png', 'tile7944.png', 'tile7730.png', 'tile8013.png', 'tile7852.png', 'tile8090.png', 'tile8149.png', 'tile8185.png', 'tile8039.png', 'tile8127.png', 'tile8167.png', 'tile8070.png', 'tile8170.png', 'tile8032.png', 'tile8084.png', 'tile8186.png', 'tile8124.png', 'tile8074.png', 'tile8157.png', 'tile8194.png', 'tile8062.png', 'tile8085.png', 'tile8102.png', 'tile8036.png', 'tile8111.png', 'tile8100.png', 'tile8079.png', 'tile8155.png', 'tile8081.png', 'tile8098.png', 'tile8175.png', 'tile8040.png', 'tile8183.png', 'tile8200.png', 'tile8035.png', 'tile8192.png', 'tile8128.png', 'tile8118.png', 'tile8056.png', 'tile8031.png', 'tile8104.png', 'tile8179.png', 'tile8057.png', 'tile8143.png', 'tile8061.png', 'tile8065.png', 'tile8058.png', 'tile8054.png', 'tile8089.png', 'tile8093.png', 'tile8197.png', 'tile8171.png', 'tile8072.png', 'tile8139.png', 'tile8064.png', 'tile8033.png', 'tile8132.png', 'tile8137.png', 'tile8120.png', 'tile8119.png', 'tile8161.png', 'tile8165.png', 'tile8110.png', 'tile8115.png', 'tile8142.png', 'tile8160.png', 'tile8187.png', 'tile8082.png', 'tile8147.png', 'tile8159.png', 'tile8122.png', 'tile8050.png', 'tile8173.png', 'tile8083.png', 'tile8177.png', 'tile8067.png', 'tile8198.png', 'tile8077.png', 'tile8153.png', 'tile8041.png', 'tile8191.png', 'tile8141.png', 'tile8060.png', 'tile8075.png', 'tile8190.png', 'tile8163.png', 'tile8182.png', 'tile8106.png', 'tile8092.png', 'tile8097.png', 'tile8125.png', 'tile8121.png', 'tile8180.png', 'tile8087.png', 'tile8029.png', 'tile8046.png', 'tile8038.png', 'tile8109.png', 'tile8059.png', 'tile8130.png', 'tile8154.png', 'tile8176.png', 'tile8116.png', 'tile8043.png', 'tile8133.png', 'tile8096.png', 'tile8151.png', 'tile8152.png', 'tile8044.png', 'tile8053.png', 'tile8164.png', 'tile8136.png', 'tile8196.png', 'tile8078.png', 'tile8162.png', 'tile8052.png', 'tile8114.png', 'tile8113.png', 'tile8045.png', 'tile8103.png', 'tile8055.png', 'tile8126.png', 'tile8158.png', 'tile8042.png', 'tile8034.png', 'tile8166.png', 'tile8123.png', 'tile8071.png', 'tile8037.png', 'tile8169.png', 'tile8066.png', 'tile8189.png', 'tile8150.png', 'tile8051.png', 'tile8181.png', 'tile8108.png', 'tile8073.png', 'tile8193.png', 'tile8168.png', 'tile8199.png', 'tile8148.png', 'tile8047.png', 'tile8174.png', 'tile8094.png', 'tile8178.png', 'tile8086.png', 'tile8146.png', 'tile8030.png', 'tile8145.png', 'tile8088.png', 'tile8069.png', 'tile8076.png', 'tile8134.png', 'tile8135.png', 'tile8068.png', 'tile8184.png', 'tile8188.png', 'tile8156.png', 'tile8105.png', 'tile8048.png', 'tile8101.png', 'tile8129.png', 'tile8172.png', 'tile8195.png', 'tile8131.png', 'tile8091.png', 'tile8144.png', 'tile8107.png', 'tile8049.png', 'tile8095.png', 'tile8099.png', 'tile8117.png', 'tile8112.png', 'tile8140.png', 'tile8138.png', 'tile8080.png', 'tile8063.png', 'tile6353.png', 'tile6169.png', 'tile6240.png', 'tile6177.png', 'tile6394.png', 'tile6365.png', 'tile6287.png', 'tile6336.png', 'tile6115.png', 'tile6117.png', 'tile6368.png', 'tile6322.png', 'tile6184.png', 'tile6269.png', 'tile6263.png', 'tile6141.png', 'tile6176.png', 'tile6170.png', 'tile6191.png', 'tile6376.png', 'tile6127.png', 'tile6219.png', 'tile6252.png', 'tile6314.png', 'tile6109.png', 'tile6344.png', 'tile6146.png', 'tile6323.png', 'tile6266.png', 'tile6201.png', 'tile6316.png', 'tile6135.png', 'tile6171.png', 'tile6249.png', 'tile6280.png', 'tile6387.png', 'tile6237.png', 'tile6220.png', 'tile6207.png', 'tile6142.png', 'tile6154.png', 'tile6161.png', 'tile6321.png', 'tile6189.png', 'tile6340.png', 'tile6413.png', 'tile6370.png', 'tile6403.png', 'tile6110.png', 'tile6151.png', 'tile6144.png', 'tile6192.png', 'tile6306.png', 'tile6354.png', 'tile6156.png', 'tile6153.png', 'tile6113.png', 'tile6270.png', 'tile6138.png', 'tile6308.png', 'tile6132.png', 'tile6294.png', 'tile6208.png', 'tile6102.png', 'tile6386.png', 'tile6297.png', 'tile6410.png', 'tile6286.png', 'tile6293.png', 'tile6358.png', 'tile6305.png', 'tile6183.png', 'tile6128.png', 'tile6349.png', 'tile6311.png', 'tile6391.png', 'tile6272.png', 'tile6265.png', 'tile6238.png', 'tile6371.png', 'tile6205.png', 'tile6383.png', 'tile6291.png', 'tile6419.png', 'tile6334.png', 'tile6307.png', 'tile6319.png', 'tile6229.png', 'tile6303.png', 'tile6099.png', 'tile6267.png', 'tile6406.png', 'tile6260.png', 'tile6405.png', 'tile6338.png', 'tile6213.png', 'tile6225.png', 'tile6164.png', 'tile6204.png', 'tile6186.png', 'tile6261.png', 'tile6299.png', 'tile6318.png', 'tile6120.png', 'tile6379.png', 'tile6378.png', 'tile6352.png', 'tile6330.png', 'tile6158.png', 'tile6364.png', 'tile6163.png', 'tile6119.png', 'tile6247.png', 'tile6411.png', 'tile6187.png', 'tile6148.png', 'tile6157.png', 'tile6400.png', 'tile6242.png', 'tile6421.png', 'tile6103.png', 'tile6285.png', 'tile6145.png', 'tile6111.png', 'tile6259.png', 'tile6244.png', 'tile6214.png', 'tile6104.png', 'tile6232.png', 'tile6271.png', 'tile6245.png', 'tile6275.png', 'tile6326.png', 'tile6360.png', 'tile6295.png', 'tile6339.png', 'tile6389.png', 'tile6348.png', 'tile6357.png', 'tile6258.png', 'tile6298.png', 'tile6313.png', 'tile6168.png', 'tile6256.png', 'tile6182.png', 'tile6301.png', 'tile6203.png', 'tile6337.png', 'tile6393.png', 'tile6121.png', 'tile6162.png', 'tile6402.png', 'tile6199.png', 'tile6396.png', 'tile6359.png', 'tile6320.png', 'tile6188.png', 'tile6290.png', 'tile6327.png', 'tile6363.png', 'tile6179.png', 'tile6377.png', 'tile6124.png', 'tile6417.png', 'tile6351.png', 'tile6126.png', 'tile6278.png', 'tile6284.png', 'tile6409.png', 'tile6412.png', 'tile6418.png', 'tile6309.png', 'tile6292.png', 'tile6105.png', 'tile6140.png', 'tile6133.png', 'tile6159.png', 'tile6382.png', 'tile6373.png', 'tile6230.png', 'tile6226.png', 'tile6335.png', 'tile6209.png', 'tile6385.png', 'tile6380.png', 'tile6200.png', 'tile6390.png', 'tile6388.png', 'tile6227.png', 'tile6212.png', 'tile6165.png', 'tile6356.png', 'tile6136.png', 'tile6325.png', 'tile6172.png', 'tile6347.png', 'tile6143.png', 'tile6193.png', 'tile6361.png', 'tile6398.png', 'tile6416.png', 'tile6415.png', 'tile6233.png', 'tile6329.png', 'tile6345.png', 'tile6407.png', 'tile6197.png', 'tile6302.png', 'tile6116.png', 'tile6341.png', 'tile6178.png', 'tile6218.png', 'tile6108.png', 'tile6317.png', 'tile6152.png', 'tile6107.png', 'tile6362.png', 'tile6175.png', 'tile6255.png', 'tile6155.png', 'tile6395.png', 'tile6328.png', 'tile6300.png', 'tile6851.png', 'tile6586.png', 'tile6947.png', 'tile6917.png', 'tile6788.png', 'tile6870.png', 'tile6557.png', 'tile6883.png', 'tile6603.png', 'tile6803.png', 'tile6611.png', 'tile6882.png', 'tile6909.png', 'tile6598.png', 'tile6932.png', 'tile6802.png', 'tile6477.png', 'tile6609.png', 'tile6794.png', 'tile6690.png', 'tile6542.png', 'tile6702.png', 'tile6704.png', 'tile6544.png', 'tile6444.png', 'tile6784.png', 'tile6944.png', 'tile6756.png', 'tile6588.png', 'tile6510.png', 'tile6834.png', 'tile6718.png', 'tile6633.png', 'tile6700.png', 'tile6591.png', 'tile6474.png', 'tile6866.png', 'tile6818.png', 'tile6458.png', 'tile6631.png', 'tile6792.png', 'tile6906.png', 'tile6903.png', 'tile6934.png', 'tile6455.png', 'tile6471.png', 'tile6606.png', 'tile6485.png', 'tile6860.png', 'tile6846.png', 'tile6617.png', 'tile6982.png', 'tile6550.png', 'tile6578.png', 'tile6827.png', 'tile6675.png', 'tile6551.png', 'tile6502.png', 'tile6872.png', 'tile6522.png', 'tile6554.png', 'tile6994.png', 'tile6896.png', 'tile6733.png', 'tile6673.png', 'tile6648.png', 'tile6916.png', 'tile6814.png', 'tile6566.png', 'tile6767.png', 'tile6637.png', 'tile6901.png', 'tile6838.png', 'tile6699.png', 'tile6493.png', 'tile6737.png', 'tile6539.png', 'tile6922.png', 'tile6488.png', 'tile6644.png', 'tile6430.png', 'tile6533.png', 'tile6487.png', 'tile6977.png', 'tile6752.png', 'tile6664.png', 'tile6646.png', 'tile6446.png', 'tile6777.png', 'tile6434.png', 'tile6452.png', 'tile6900.png', 'tile6921.png', 'tile6662.png', 'tile6552.png', 'tile6981.png', 'tile6793.png', 'tile6880.png', 'tile6782.png', 'tile6697.png', 'tile6587.png', 'tile6561.png', 'tile6902.png', 'tile6833.png', 'tile6954.png', 'tile6657.png', 'tile6837.png', 'tile6821.png', 'tile6847.png', 'tile6464.png', 'tile6986.png', 'tile6817.png', 'tile6754.png', 'tile6698.png', 'tile6447.png', 'tile6671.png', 'tile6797.png', 'tile6844.png', 'tile6438.png', 'tile6511.png', 'tile6933.png', 'tile6941.png', 'tile6942.png', 'tile6943.png', 'tile6722.png', 'tile6556.png', 'tile6492.png', 'tile6515.png', 'tile6798.png', 'tile6645.png', 'tile6441.png', 'tile6773.png', 'tile6895.png', 'tile6971.png', 'tile6928.png', 'tile6758.png', 'tile6513.png', 'tile6695.png', 'tile6854.png', 'tile6429.png', 'tile6855.png', 'tile6714.png', 'tile6540.png', 'tile6715.png', 'tile6680.png', 'tile6993.png', 'tile6801.png', 'tile6951.png', 'tile6435.png', 'tile6894.png', 'tile6780.png', 'tile6869.png', 'tile6451.png', 'tile6672.png', 'tile6432.png', 'tile6732.png', 'tile6857.png', 'tile6640.png', 'tile6946.png', 'tile6425.png', 'tile6955.png', 'tile6627.png', 'tile6634.png', 'tile6815.png', 'tile6748.png', 'tile6569.png', 'tile6509.png', 'tile6663.png', 'tile6688.png', 'tile6523.png', 'tile6771.png', 'tile6524.png', 'tile6940.png', 'tile6868.png', 'tile6783.png', 'tile6723.png', 'tile6766.png', 'tile6891.png', 'tile6570.png', 'tile6770.png', 'tile6746.png', 'tile6960.png', 'tile6763.png', 'tile6774.png', 'tile6555.png', 'tile6650.png', 'tile6889.png', 'tile6625.png', 'tile6707.png', 'tile6710.png', 'tile6809.png', 'tile6853.png', 'tile6813.png', 'tile6848.png', 'tile6873.png', 'tile6629.png', 'tile6490.png', 'tile6962.png', 'tile6925.png', 'tile6719.png', 'tile6779.png', 'tile6812.png', 'tile6786.png', 'tile6431.png', 'tile6972.png', 'tile6826.png', 'tile6811.png', 'tile6735.png', 'tile6885.png', 'tile6806.png', 'tile6440.png', 'tile6939.png', 'tile6887.png', 'tile6466.png', 'tile6567.png', 'tile6597.png', 'tile6726.png', 'tile6805.png', 'tile6518.png', 'tile6535.png', 'tile6852.png', 'tile6712.png', 'tile6875.png', 'tile6751.png', 'tile6484.png', 'tile6983.png', 'tile6864.png', 'tile6601.png', 'tile6816.png', 'tile6736.png', 'tile6720.png', 'tile6651.png', 'tile6923.png', 'tile6572.png', 'tile6536.png', 'tile6428.png', 'tile6969.png', 'tile6445.png', 'tile6785.png', 'tile6528.png', 'tile6689.png', 'tile6462.png', 'tile6778.png', 'tile6512.png', 'tile6741.png', 'tile6467.png', 'tile6532.png', 'tile6747.png', 'tile6460.png', 'tile6537.png', 'tile6804.png', 'tile6475.png', 'tile6545.png', 'tile6713.png', 'tile6876.png', 'tile6504.png', 'tile6949.png', 'tile6765.png', 'tile6691.png', 'tile6856.png', 'tile6755.png', 'tile6908.png', 'tile6769.png', 'tile6807.png', 'tile6835.png', 'tile6980.png', 'tile6979.png', 'tile6750.png', 'tile6594.png', 'tile6705.png', 'tile6775.png', 'tile6760.png', 'tile6740.png', 'tile6963.png', 'tile6647.png', 'tile6639.png', 'tile6845.png', 'tile6825.png', 'tile6745.png', 'tile6881.png', 'tile6973.png', 'tile6898.png', 'tile6506.png', 'tile6967.png', 'tile6796.png', 'tile6454.png', 'tile6678.png', 'tile6547.png', 'tile6457.png', 'tile6583.png', 'tile6724.png', 'tile6692.png', 'tile6914.png', 'tile6684.png', 'tile6482.png', 'tile6655.png', 'tile6623.png', 'tile6886.png', 'tile6687.png', 'tile6859.png', 'tile6546.png', 'tile6568.png', 'tile6574.png', 'tile6656.png', 'tile6701.png', 'tile6638.png', 'tile6494.png', 'tile6624.png', 'tile6957.png', 'tile6787.png', 'tile6436.png', 'tile6958.png', 'tile6520.png', 'tile6596.png', 'tile6776.png', 'tile6584.png', 'tile6858.png', 'tile6683.png', 'tile6541.png', 'tile6427.png', 'tile6966.png', 'tile6621.png', 'tile6571.png', 'tile6904.png', 'tile6862.png', 'tile6984.png', 'tile6927.png', 'tile6911.png', 'tile6469.png', 'tile6948.png', 'tile6867.png', 'tile6543.png', 'tile6978.png', 'tile6470.png', 'tile6970.png', 'tile6913.png', 'tile6424.png', 'tile6666.png', 'tile6727.png', 'tile6918.png', 'tile6592.png', 'tile6907.png', 'tile6935.png', 'tile6686.png', 'tile6808.png', 'tile6832.png', 'tile6890.png', 'tile6731.png', 'tile6863.png', 'tile6861.png', 'tile6595.png', 'tile6879.png', 'tile6527.png', 'tile6507.png', 'tile6618.png', 'tile6582.png', 'tile6985.png', 'tile6729.png', 'tile6677.png', 'tile6468.png', 'tile6915.png', 'tile6473.png', 'tile6878.png', 'tile6931.png', 'tile6630.png', 'tile6478.png', 'tile6919.png', 'tile6734.png', 'tile6961.png', 'tile6681.png', 'tile6800.png', 'tile6614.png', 'tile6795.png', 'tile6503.png', 'tile6905.png', 'tile6643.png', 'tile6573.png', 'tile6822.png', 'tile6781.png', 'tile6945.png', 'tile6871.png', 'tile6743.png', 'tile6899.png', 'tile6491.png', 'tile6762.png', 'tile6577.png', 'tile6641.png', 'tile6652.png', 'tile6607.png', 'tile6725.png', 'tile6706.png', 'tile6437.png', 'tile6538.png', 'tile6709.png', 'tile6497.png', 'tile6953.png', 'tile6820.png', 'tile6974.png', 'tile6850.png', 'tile6615.png', 'tile6717.png', 'tile6669.png', 'tile6888.png', 'tile6810.png', 'tile6525.png', 'tile6585.png', 'tile6553.png', 'tile6929.png', 'tile6831.png', 'tile6529.png', 'tile6605.png', 'tile6738.png', 'tile6628.png', 'tile6924.png', 'tile6952.png', 'tile6893.png', 'tile6576.png', 'tile6956.png', 'tile6426.png', 'tile6696.png', 'tile6988.png', 'tile6448.png', 'tile6897.png', 'tile6730.png', 'tile6912.png', 'tile6839.png', 'tile6465.png', 'tile6910.png', 'tile6622.png', 'tile6501.png', 'tile6489.png', 'tile6581.png', 'tile6602.png', 'tile6920.png', 'tile6739.png', 'tile6635.png', 'tile6505.png', 'tile6593.png', 'tile6694.png', 'tile6742.png', 'tile6764.png', 'tile6579.png', 'tile6892.png', 'tile6830.png', 'tile6938.png', 'tile6619.png', 'tile6744.png', 'tile6936.png', 'tile6679.png', 'tile6461.png', 'tile6613.png', 'tile6759.png', 'tile6711.png', 'tile6658.png', 'tile6791.png', 'tile6456.png', 'tile6836.png', 'tile6728.png', 'tile6443.png', 'tile6874.png', 'tile6843.png', 'tile6449.png', 'tile6562.png', 'tile6670.png', 'tile6575.png', 'tile6516.png', 'tile6481.png', 'tile6661.png', 'tile6660.png', 'tile6589.png', 'tile6708.png', 'tile6976.png', 'tile6433.png', 'tile6442.png', 'tile6990.png', 'tile6514.png', 'tile6667.png', 'tile6665.png', 'tile6564.png', 'tile6768.png', 'tile6612.png', 'tile6459.png', 'tile6668.png', 'tile6975.png', 'tile6590.png', 'tile6580.png', 'tile6636.png', 'tile6531.png', 'tile6439.png', 'tile6558.png', 'tile6496.png', 'tile6563.png', 'tile6682.png', 'tile6600.png', 'tile6548.png', 'tile6840.png', 'tile6716.png', 'tile6517.png', 'tile6674.png', 'tile6865.png', 'tile6676.png', 'tile6703.png', 'tile6987.png', 'tile6930.png', 'tile6659.png', 'tile6992.png', 'tile6616.png', 'tile6486.png', 'tile6565.png', 'tile6823.png', 'tile6476.png', 'tile6685.png', 'tile6632.png', 'tile6508.png', 'tile6530.png', 'tile6610.png', 'tile6549.png', 'tile6937.png', 'tile6450.png', 'tile6877.png', 'tile6828.png', 'tile6649.png', 'tile6790.png', 'tile6965.png', 'tile6761.png', 'tile6534.png', 'tile6498.png', 'tile6521.png', 'tile6721.png', 'tile6772.png', 'tile6989.png', 'tile6495.png', 'tile6819.png', 'tile6604.png', 'tile6842.png', 'tile6789.png', 'tile6654.png', 'tile6653.png', 'tile6453.png', 'tile6841.png', 'tile6884.png', 'tile6799.png', 'tile6968.png', 'tile6824.png', 'tile6480.png', 'tile6849.png', 'tile6991.png', 'tile6964.png', 'tile6479.png', 'tile6560.png', 'tile6599.png', 'tile6829.png', 'tile6642.png', 'tile6620.png', 'tile6499.png', 'tile6500.png', 'tile6950.png', 'tile6472.png', 'tile6753.png', 'tile6559.png', 'tile6626.png', 'tile6526.png', 'tile6959.png', 'tile6693.png', 'tile6519.png', 'tile6757.png', 'tile6483.png', 'tile6926.png', 'tile6608.png', 'tile6463.png', 'tile6749.png', 'tile6999.png', 'tile6997.png', 'tile6996.png', 'tile6995.png', 'tile6998.png', 'tile7023.png', 'tile7052.png', 'tile7126.png', 'tile7103.png', 'tile7026.png', 'tile7211.png', 'tile7100.png', 'tile7161.png', 'tile7007.png', 'tile7153.png', 'tile7160.png', 'tile7234.png', 'tile7016.png', 'tile7060.png', 'tile7196.png', 'tile7001.png', 'tile7117.png', 'tile7184.png', 'tile7063.png', 'tile7033.png', 'tile7112.png', 'tile7232.png', 'tile7084.png', 'tile7088.png', 'tile7222.png', 'tile7240.png', 'tile7021.png', 'tile7051.png', 'tile7062.png', 'tile7215.png', 'tile7201.png', 'tile7182.png', 'tile7030.png', 'tile7173.png', 'tile7195.png', 'tile7085.png', 'tile7076.png', 'tile7172.png', 'tile7178.png', 'tile7129.png', 'tile7035.png', 'tile7050.png', 'tile7171.png', 'tile7086.png', 'tile7105.png', 'tile7000.png', 'tile7075.png', 'tile7177.png', 'tile7077.png', 'tile7229.png', 'tile7057.png', 'tile7094.png', 'tile7165.png', 'tile7028.png', 'tile7190.png', 'tile7186.png', 'tile7140.png', 'tile7130.png', 'tile7158.png', 'tile7133.png', 'tile7175.png', 'tile7221.png', 'tile7019.png', 'tile7087.png', 'tile7046.png', 'tile7166.png', 'tile7143.png', 'tile7141.png', 'tile7200.png', 'tile7064.png', 'tile7092.png', 'tile7183.png', 'tile7224.png', 'tile7042.png', 'tile7187.png', 'tile7079.png', 'tile7096.png', 'tile7008.png', 'tile7170.png', 'tile7098.png', 'tile7122.png', 'tile7101.png', 'tile7208.png', 'tile7239.png', 'tile7169.png', 'tile7058.png', 'tile7231.png', 'tile7034.png', 'tile7145.png', 'tile7004.png', 'tile7174.png', 'tile7049.png', 'tile7072.png', 'tile7189.png', 'tile7031.png', 'tile7093.png', 'tile7188.png', 'tile7121.png', 'tile7118.png', 'tile7106.png', 'tile7017.png', 'tile7194.png', 'tile7012.png', 'tile7111.png', 'tile7150.png', 'tile7073.png', 'tile7236.png', 'tile7038.png', 'tile7149.png', 'tile7082.png', 'tile7198.png', 'tile7202.png', 'tile7069.png', 'tile7107.png', 'tile7083.png', 'tile7219.png', 'tile7209.png', 'tile7040.png', 'tile7011.png', 'tile7125.png', 'tile7148.png', 'tile7115.png', 'tile7180.png', 'tile7193.png', 'tile7191.png', 'tile7167.png', 'tile7233.png', 'tile7164.png', 'tile7144.png', 'tile7185.png', 'tile7142.png', 'tile7124.png', 'tile7097.png', 'tile7179.png', 'tile7203.png', 'tile7114.png', 'tile7217.png', 'tile7022.png', 'tile7032.png', 'tile7015.png', 'tile7065.png', 'tile7029.png', 'tile7199.png', 'tile7159.png', 'tile7157.png', 'tile7024.png', 'tile7070.png', 'tile7048.png', 'tile7138.png', 'tile7135.png', 'tile7055.png', 'tile7210.png', 'tile7207.png', 'tile7104.png', 'tile7192.png', 'tile7005.png', 'tile7071.png', 'tile7131.png', 'tile7036.png', 'tile7045.png', 'tile7139.png', 'tile7127.png', 'tile7003.png', 'tile7010.png', 'tile7018.png', 'tile7113.png', 'tile7206.png', 'tile7080.png', 'tile7120.png', 'tile7216.png', 'tile7053.png', 'tile7235.png', 'tile7218.png', 'tile7041.png', 'tile7123.png', 'tile7226.png', 'tile7119.png', 'tile7056.png', 'tile7091.png', 'tile7152.png', 'tile7214.png', 'tile7163.png', 'tile7128.png', 'tile7162.png', 'tile7066.png', 'tile7238.png', 'tile7089.png', 'tile7230.png', 'tile7176.png', 'tile7099.png', 'tile7025.png', 'tile7220.png', 'tile7197.png', 'tile7227.png', 'tile7109.png', 'tile7061.png', 'tile7074.png', 'tile7205.png', 'tile7168.png', 'tile7146.png', 'tile7002.png', 'tile5361.png', 'tile5141.png', 'tile5281.png', 'tile5148.png', 'tile5286.png', 'tile5154.png', 'tile5214.png', 'tile5315.png', 'tile5167.png', 'tile5155.png', 'tile5282.png', 'tile5205.png', 'tile5246.png', 'tile5171.png', 'tile5362.png', 'tile5298.png', 'tile5322.png', 'tile5360.png', 'tile5351.png', 'tile5170.png', 'tile5211.png', 'tile5197.png', 'tile5227.png', 'tile5345.png', 'tile5152.png', 'tile5221.png', 'tile5263.png', 'tile5199.png', 'tile5279.png', 'tile5265.png', 'tile5168.png', 'tile5242.png', 'tile5207.png', 'tile5304.png', 'tile5314.png', 'tile5350.png', 'tile5317.png', 'tile5347.png', 'tile5212.png', 'tile5264.png', 'tile5249.png', 'tile5331.png', 'tile5186.png', 'tile5291.png', 'tile5258.png', 'tile5213.png', 'tile5146.png', 'tile5335.png', 'tile5275.png', 'tile5200.png', 'tile5332.png', 'tile5192.png', 'tile5272.png', 'tile5353.png', 'tile5225.png', 'tile5278.png', 'tile5133.png', 'tile5310.png', 'tile5206.png', 'tile5296.png', 'tile5166.png', 'tile5367.png', 'tile5346.png', 'tile5337.png', 'tile5283.png', 'tile5289.png', 'tile5150.png', 'tile5149.png', 'tile5373.png', 'tile5313.png', 'tile5224.png', 'tile5139.png', 'tile5165.png', 'tile5268.png', 'tile5159.png', 'tile5217.png', 'tile5190.png', 'tile5177.png', 'tile5164.png', 'tile5292.png', 'tile5323.png', 'tile5252.png', 'tile5209.png', 'tile5260.png', 'tile5288.png', 'tile5273.png', 'tile5307.png', 'tile5338.png', 'tile5193.png', 'tile5300.png', 'tile5365.png', 'tile5234.png', 'tile5201.png', 'tile5363.png', 'tile5184.png', 'tile5239.png', 'tile5131.png', 'tile5241.png', 'tile5356.png', 'tile5344.png', 'tile5299.png', 'tile5163.png', 'tile5319.png', 'tile5341.png', 'tile5295.png', 'tile5243.png', 'tile5327.png', 'tile5328.png', 'tile5135.png', 'tile5280.png', 'tile5191.png', 'tile5266.png', 'tile5271.png', 'tile5305.png', 'tile5222.png', 'tile5324.png', 'tile5245.png', 'tile5203.png', 'tile5158.png', 'tile5187.png', 'tile5285.png', 'tile5161.png', 'tile5267.png', 'tile5348.png', 'tile5181.png', 'tile5215.png', 'tile5330.png', 'tile5143.png', 'tile5358.png', 'tile5301.png', 'tile5233.png', 'tile5254.png', 'tile5354.png', 'tile5334.png', 'tile5325.png', 'tile5137.png', 'tile5297.png', 'tile5147.png', 'tile5251.png', 'tile5216.png', 'tile5228.png', 'tile5370.png', 'tile5293.png', 'tile5326.png', 'tile5226.png', 'tile5294.png', 'tile5157.png', 'tile5140.png', 'tile5238.png', 'tile5343.png', 'tile5321.png', 'tile5247.png', 'tile5308.png', 'tile5180.png', 'tile5371.png', 'tile5220.png', 'tile5218.png', 'tile5185.png', 'tile5287.png', 'tile5172.png', 'tile5142.png', 'tile5248.png', 'tile5255.png', 'tile5183.png', 'tile5188.png', 'tile5195.png', 'tile5151.png', 'tile5372.png', 'tile5262.png', 'tile5169.png', 'tile5369.png', 'tile5355.png', 'tile5311.png', 'tile5244.png', 'tile5658.png', 'tile5642.png', 'tile5551.png', 'tile5798.png', 'tile5703.png', 'tile5577.png', 'tile5443.png', 'tile5812.png', 'tile5790.png', 'tile5632.png', 'tile5784.png', 'tile5375.png', 'tile5715.png', 'tile5391.png', 'tile5404.png', 'tile5566.png', 'tile5571.png', 'tile5428.png', 'tile5733.png', 'tile5793.png', 'tile5774.png', 'tile5464.png', 'tile5509.png', 'tile5584.png', 'tile5423.png', 'tile5696.png', 'tile5656.png', 'tile5870.png', 'tile5819.png', 'tile5578.png', 'tile5496.png', 'tile5771.png', 'tile5519.png', 'tile5525.png', 'tile5411.png', 'tile5601.png', 'tile5866.png', 'tile5661.png', 'tile5546.png', 'tile5847.png', 'tile5406.png', 'tile5707.png', 'tile5537.png', 'tile5838.png', 'tile5594.png', 'tile5788.png', 'tile5414.png', 'tile5864.png', 'tile5706.png', 'tile5821.png', 'tile5843.png', 'tile5482.png', 'tile5442.png', 'tile5513.png', 'tile5408.png', 'tile5460.png', 'tile5530.png', 'tile5664.png', 'tile5846.png', 'tile5800.png', 'tile5773.png', 'tile5755.png', 'tile5871.png', 'tile5581.png', 'tile5389.png', 'tile5739.png', 'tile5859.png', 'tile5467.png', 'tile5835.png', 'tile5388.png', 'tile5764.png', 'tile5420.png', 'tile5593.png', 'tile5679.png', 'tile5686.png', 'tile5690.png', 'tile5588.png', 'tile5675.png', 'tile5470.png', 'tile5817.png', 'tile5806.png', 'tile5834.png', 'tile5579.png', 'tile5495.png', 'tile5720.png', 'tile5635.png', 'tile5421.png', 'tile5688.png', 'tile5564.png', 'tile5659.png', 'tile5644.png', 'tile5461.png', 'tile5786.png', 'tile5403.png', 'tile5416.png', 'tile5490.png', 'tile5615.png', 'tile5672.png', 'tile5629.png', 'tile5840.png', 'tile5776.png', 'tile5396.png', 'tile5668.png', 'tile5446.png', 'tile5735.png', 'tile5595.png', 'tile5704.png', 'tile5516.png', 'tile5862.png', 'tile5714.png', 'tile5426.png', 'tile5534.png', 'tile5719.png', 'tile5559.png', 'tile5676.png', 'tile5868.png', 'tile5815.png', 'tile5804.png', 'tile5527.png', 'tile5643.png', 'tile5529.png', 'tile5809.png', 'tile5695.png', 'tile5392.png', 'tile5535.png', 'tile5701.png', 'tile5748.png', 'tile5522.png', 'tile5839.png', 'tile5376.png', 'tile5450.png', 'tile5377.png', 'tile5770.png', 'tile5716.png', 'tile5683.png', 'tile5503.png', 'tile5596.png', 'tile5697.png', 'tile5400.png', 'tile5507.png', 'tile5727.png', 'tile5459.png', 'tile5863.png', 'tile5399.png', 'tile5854.png', 'tile5832.png', 'tile5419.png', 'tile5445.png', 'tile5767.png', 'tile5471.png', 'tile5625.png', 'tile5759.png', 'tile5624.png', 'tile5492.png', 'tile5692.png', 'tile5466.png', 'tile5378.png', 'tile5816.png', 'tile5869.png', 'tile5741.png', 'tile5618.png', 'tile5669.png', 'tile5808.png', 'tile5674.png', 'tile5794.png', 'tile5769.png', 'tile5680.png', 'tile5424.png', 'tile5723.png', 'tile5393.png', 'tile5545.png', 'tile5677.png', 'tile5425.png', 'tile5524.png', 'tile5736.png', 'tile5532.png', 'tile5586.png', 'tile5518.png', 'tile5803.png', 'tile5718.png', 'tile5829.png', 'tile5814.png', 'tile5710.png', 'tile5499.png', 'tile5528.png', 'tile5610.png', 'tile5552.png', 'tile5479.png', 'tile5387.png', 'tile5844.png', 'tile5434.png', 'tile5560.png', 'tile5430.png', 'tile5852.png', 'tile5540.png', 'tile5702.png', 'tile5550.png', 'tile5860.png', 'tile5649.png', 'tile5662.png', 'tile5782.png', 'tile5444.png', 'tile5747.png', 'tile5687.png', 'tile5469.png', 'tile5385.png', 'tile5494.png', 'tile5652.png', 'tile5833.png', 'tile5523.png', 'tile5497.png', 'tile5780.png', 'tile5587.png', 'tile5384.png', 'tile5405.png', 'tile5504.png', 'tile5626.png', 'tile5477.png', 'tile5473.png', 'tile5775.png', 'tile5781.png', 'tile5465.png', 'tile5807.png', 'tile5380.png', 'tile5765.png', 'tile5777.png', 'tile5750.png', 'tile5849.png', 'tile5848.png', 'tile5724.png', 'tile5753.png', 'tile5670.png', 'tile5456.png', 'tile5549.png', 'tile5766.png', 'tile5607.png', 'tile5475.png', 'tile5487.png', 'tile5463.png', 'tile5698.png', 'tile5536.png', 'tile5841.png', 'tile5865.png', 'tile5486.png', 'tile5585.png', 'tile5795.png', 'tile5563.png', 'tile5557.png', 'tile5597.png', 'tile5699.png', 'tile5429.png', 'tile5606.png', 'tile5474.png', 'tile5799.png', 'tile5512.png', 'tile5754.png', 'tile5412.png', 'tile5604.png', 'tile5438.png', 'tile5531.png', 'tile5830.png', 'tile5394.png', 'tile5749.png', 'tile5653.png', 'tile5713.png', 'tile5517.png', 'tile5620.png', 'tile5598.png', 'tile5432.png', 'tile5568.png', 'tile5439.png', 'tile5689.png', 'tile5501.png', 'tile5640.png', 'tile5570.png', 'tile5573.png', 'tile5526.png', 'tile5544.png', 'tile5685.png', 'tile5488.png', 'tile5757.png', 'tile5611.png', 'tile5845.png', 'tile5763.png', 'tile5681.png', 'tile5541.png', 'tile5379.png', 'tile5756.png', 'tile5857.png', 'tile5651.png', 'tile5789.png', 'tile5822.png', 'tile5622.png', 'tile5855.png', 'tile5758.png', 'tile5600.png', 'tile5437.png', 'tile5453.png', 'tile5435.png', 'tile5721.png', 'tile5483.png', 'tile5678.png', 'tile5543.png', 'tile5555.png', 'tile5500.png', 'tile5673.png', 'tile5648.png', 'tile5802.png', 'tile5485.png', 'tile5562.png', 'tile5520.png', 'tile5825.png', 'tile5734.png', 'tile5422.png', 'tile5637.png', 'tile5627.png', 'tile5785.png', 'tile5645.png', 'tile5417.png', 'tile5407.png', 'tile5875.png', 'tile5783.png', 'tile5510.png', 'tile5861.png', 'tile5732.png', 'tile5590.png', 'tile5621.png', 'tile5628.png', 'tile5605.png', 'tile5619.png', 'tile5462.png', 'tile5381.png', 'tile5818.png', 'tile5617.png', 'tile5457.png', 'tile5413.png', 'tile5580.png', 'tile5851.png', 'tile5657.png', 'tile5454.png', 'tile5505.png', 'tile5603.png', 'tile5401.png', 'tile5762.png', 'tile5738.png', 'tile5508.png', 'tile5397.png', 'tile5647.png', 'tile5455.png', 'tile5631.png', 'tile5836.png', 'tile5712.png', 'tile5731.png', 'tile5711.png', 'tile5826.png', 'tile5431.png', 'tile5791.png', 'tile5634.png', 'tile5667.png', 'tile5874.png', 'tile5824.png', 'tile5476.png', 'tile5684.png', 'tile5409.png', 'tile5876.png', 'tile5556.png', 'tile5582.png', 'tile5515.png', 'tile5630.png', 'tile5850.png', 'tile5511.png', 'tile5612.png', 'tile5636.png', 'tile5493.png', 'tile5761.png', 'tile5447.png', 'tile5538.png', 'tile5705.png', 'tile5553.png', 'tile5797.png', 'tile5805.png', 'tile5478.png', 'tile5646.png', 'tile5440.png', 'tile5722.png', 'tile5616.png', 'tile5726.png', 'tile5663.png', 'tile5565.png', 'tile5480.png', 'tile5418.png', 'tile5810.png', 'tile5398.png', 'tile5779.png', 'tile5484.png', 'tile5660.png', 'tile5602.png', 'tile5539.png', 'tile5746.png', 'tile5542.png', 'tile5451.png', 'tile5558.png', 'tile5592.png', 'tile5772.png', 'tile5671.png', 'tile5382.png', 'tile5691.png', 'tile5837.png', 'tile5730.png', 'tile5458.png', 'tile5609.png', 'tile5415.png', 'tile5654.png', 'tile5831.png', 'tile5650.png', 'tile5472.png', 'tile5567.png', 'tile5468.png', 'tile5665.png', 'tile5823.png', 'tile5858.png', 'tile5778.png', 'tile5591.png', 'tile5583.png', 'tile5623.png', 'tile5737.png', 'tile5576.png', 'tile5752.png', 'tile5514.png', 'tile5554.png', 'tile5390.png', 'tile5410.png', 'tile5481.png', 'tile5743.png', 'tile5402.png', 'tile5608.png', 'tile5561.png', 'tile5502.png', 'tile5574.png', 'tile5533.png', 'tile5867.png', 'tile5433.png', 'tile5638.png', 'tile5441.png', 'tile5827.png', 'tile5768.png', 'tile5820.png', 'tile5717.png', 'tile5506.png', 'tile5853.png', 'tile5639.png', 'tile5728.png', 'tile5589.png', 'tile5386.png', 'tile5709.png', 'tile5395.png', 'tile5548.png', 'tile5842.png', 'tile5521.png', 'tile5489.png', 'tile5449.png', 'tile5725.png', 'tile5575.png', 'tile5666.png', 'tile5655.png', 'tile5742.png', 'tile5383.png', 'tile5613.png', 'tile5572.png', 'tile5427.png', 'tile5436.png', 'tile5569.png', 'tile5633.png', 'tile5873.png', 'tile5614.png', 'tile5856.png', 'tile5693.png', 'tile5872.png', 'tile5813.png', 'tile5796.png', 'tile5491.png', 'tile5700.png', 'tile5729.png', 'tile5787.png', 'tile5498.png', 'tile5760.png', 'tile5828.png', 'tile5641.png', 'tile5452.png', 'tile5448.png', 'tile5682.png', 'tile5751.png', 'tile5547.png', 'tile5740.png', 'tile5708.png', 'tile5792.png', 'tile5811.png', 'tile5801.png', 'tile5745.png', 'tile5599.png', 'tile5744.png', 'tile5694.png', 'tile5882.png', 'tile5912.png', 'tile5918.png', 'tile5921.png', 'tile5893.png', 'tile5898.png', 'tile5890.png', 'tile5919.png', 'tile5896.png', 'tile5902.png', 'tile5889.png', 'tile5887.png', 'tile5907.png', 'tile5879.png', 'tile5911.png', 'tile5892.png', 'tile5900.png', 'tile5906.png', 'tile5901.png', 'tile5904.png', 'tile5878.png', 'tile5922.png', 'tile5917.png', 'tile5888.png', 'tile5915.png', 'tile5897.png', 'tile5891.png', 'tile5881.png', 'tile5884.png', 'tile5913.png', 'tile5905.png', 'tile5920.png', 'tile5914.png', 'tile5925.png', 'tile5909.png', 'tile5910.png', 'tile5903.png', 'tile5883.png', 'tile5894.png', 'tile5886.png', 'tile5899.png', 'tile5877.png', 'tile5885.png', 'tile5924.png', 'tile5895.png', 'tile5908.png', 'tile5880.png', 'tile5916.png', 'tile5923.png', 'tile5933.png', 'tile5937.png', 'tile5956.png', 'tile5938.png', 'tile5962.png', 'tile5931.png', 'tile5952.png', 'tile5955.png', 'tile5943.png', 'tile5974.png', 'tile5957.png', 'tile5967.png', 'tile5950.png', 'tile5947.png', 'tile5970.png', 'tile5940.png', 'tile5935.png', 'tile5954.png', 'tile5966.png', 'tile5960.png', 'tile5930.png', 'tile5936.png', 'tile5969.png', 'tile5971.png', 'tile5934.png', 'tile5961.png', 'tile5948.png', 'tile5972.png', 'tile5941.png', 'tile5927.png', 'tile5926.png', 'tile5959.png', 'tile5958.png', 'tile5964.png', 'tile5939.png', 'tile5932.png', 'tile5975.png', 'tile5965.png', 'tile5951.png', 'tile5963.png', 'tile5973.png', 'tile5944.png', 'tile5946.png', 'tile5953.png', 'tile5945.png', 'tile5942.png', 'tile5928.png', 'tile5968.png', 'tile5929.png', 'tile5949.png', 'tile5978.png', 'tile5993.png', 'tile5999.png', 'tile5992.png', 'tile5982.png', 'tile5990.png', 'tile5988.png', 'tile5994.png', 'tile5998.png', 'tile5983.png', 'tile5987.png', 'tile5977.png', 'tile5976.png', 'tile5989.png', 'tile5984.png', 'tile5985.png', 'tile5997.png', 'tile5980.png', 'tile5996.png', 'tile5979.png', 'tile5981.png', 'tile5986.png', 'tile5995.png', 'tile5991.png', 'tile6011.png', 'tile6079.png', 'tile6093.png', 'tile6007.png', 'tile6033.png', 'tile6003.png', 'tile6062.png', 'tile6078.png', 'tile6019.png', 'tile6036.png', 'tile6037.png', 'tile6024.png', 'tile6040.png', 'tile6089.png', 'tile6018.png', 'tile6004.png', 'tile6032.png', 'tile6006.png', 'tile6063.png', 'tile6058.png', 'tile6042.png', 'tile6095.png', 'tile6091.png', 'tile6061.png', 'tile6084.png', 'tile6045.png', 'tile6087.png', 'tile6056.png', 'tile6008.png', 'tile6034.png', 'tile6066.png', 'tile6046.png', 'tile6072.png', 'tile6085.png', 'tile6035.png', 'tile6054.png', 'tile6076.png', 'tile6082.png', 'tile6094.png', 'tile6000.png', 'tile6050.png', 'tile6080.png', 'tile6070.png', 'tile6038.png', 'tile6015.png', 'tile6001.png', 'tile6022.png', 'tile6021.png', 'tile6005.png', 'tile6016.png', 'tile6012.png', 'tile6075.png', 'tile6027.png', 'tile6064.png', 'tile6088.png', 'tile6014.png', 'tile6009.png', 'tile6077.png', 'tile6057.png', 'tile6074.png', 'tile6081.png', 'tile6059.png', 'tile6096.png', 'tile6065.png', 'tile6029.png', 'tile6017.png', 'tile6090.png', 'tile6049.png', 'tile6097.png', 'tile6060.png', 'tile6002.png', 'tile6071.png', 'tile6026.png', 'tile6055.png', 'tile6031.png', 'tile6010.png', 'tile6092.png', 'tile6025.png', 'tile6030.png', 'tile6052.png', 'tile6023.png', 'tile6083.png', 'tile6048.png', 'tile6047.png', 'tile6051.png', 'tile6053.png', 'tile6043.png', 'tile6067.png', 'tile6013.png', 'tile6069.png', 'tile6041.png', 'tile6073.png', 'tile6068.png', 'tile6020.png', 'tile6086.png', 'tile6028.png', 'tile6039.png', 'tile6044.png', 'tile6296.png', 'tile6332.png', 'tile6137.png', 'tile6253.png', 'tile6304.png', 'tile6112.png', 'tile6217.png', 'tile6274.png', 'tile6134.png', 'tile6404.png', 'tile6206.png', 'tile6190.png', 'tile6100.png', 'tile6139.png', 'tile6276.png', 'tile6279.png', 'tile6324.png', 'tile6167.png', 'tile6422.png', 'tile6350.png', 'tile6123.png', 'tile6210.png', 'tile6397.png', 'tile6215.png', 'tile6288.png', 'tile6375.png', 'tile6202.png', 'tile6194.png', 'tile6098.png', 'tile6236.png', 'tile6147.png', 'tile6331.png', 'tile6196.png', 'tile6312.png', 'tile6399.png', 'tile6372.png', 'tile6246.png', 'tile6369.png', 'tile6180.png', 'tile6262.png', 'tile6166.png', 'tile6198.png', 'tile6239.png', 'tile6381.png', 'tile6130.png', 'tile6250.png', 'tile6384.png', 'tile6346.png', 'tile6241.png', 'tile6223.png', 'tile6367.png', 'tile6273.png', 'tile6195.png', 'tile6221.png', 'tile6310.png', 'tile6150.png', 'tile6392.png', 'tile6289.png', 'tile6414.png', 'tile6149.png', 'tile6231.png', 'tile6174.png', 'tile6374.png', 'tile6118.png', 'tile6257.png', 'tile6355.png', 'tile6268.png', 'tile6160.png', 'tile6423.png', 'tile6224.png', 'tile6228.png', 'tile6211.png', 'tile6264.png', 'tile6420.png', 'tile6222.png', 'tile6408.png', 'tile6254.png', 'tile6251.png', 'tile6248.png', 'tile6281.png', 'tile6234.png', 'tile6106.png', 'tile6122.png', 'tile6366.png', 'tile6181.png', 'tile6173.png', 'tile6401.png', 'tile6277.png', 'tile6342.png', 'tile6283.png', 'tile6101.png', 'tile6235.png', 'tile6333.png', 'tile6185.png', 'tile6114.png', 'tile6129.png', 'tile6282.png', 'tile6315.png', 'tile6125.png', 'tile6216.png', 'tile6343.png', 'tile6243.png', 'tile6131.png', 'tile5001.png', 'tile5043.png', 'tile5052.png', 'tile5018.png', 'tile5032.png', 'tile5017.png', 'tile5033.png', 'tile5051.png', 'tile5055.png', 'tile5058.png', 'tile5027.png', 'tile5009.png', 'tile5047.png', 'tile5081.png', 'tile5002.png', 'tile5031.png', 'tile5062.png', 'tile5070.png', 'tile5077.png', 'tile5049.png', 'tile5046.png', 'tile5023.png', 'tile5063.png', 'tile5042.png', 'tile5050.png', 'tile5060.png', 'tile5028.png', 'tile5037.png', 'tile5012.png', 'tile5022.png', 'tile5059.png', 'tile5044.png', 'tile5076.png', 'tile5029.png', 'tile5079.png', 'tile5074.png', 'tile5066.png', 'tile5003.png', 'tile5038.png', 'tile5080.png', 'tile5078.png', 'tile5025.png', 'tile5067.png', 'tile5014.png', 'tile5040.png', 'tile5020.png', 'tile5071.png', 'tile5053.png', 'tile5054.png', 'tile5030.png', 'tile5021.png', 'tile5045.png', 'tile5056.png', 'tile5048.png', 'tile5073.png', 'tile5026.png', 'tile5011.png', 'tile5004.png', 'tile5019.png', 'tile5069.png', 'tile5061.png', 'tile5008.png', 'tile5075.png', 'tile5024.png', 'tile5034.png', 'tile5007.png', 'tile5036.png', 'tile5039.png', 'tile5082.png', 'tile5013.png', 'tile5057.png', 'tile5064.png', 'tile5005.png', 'tile5016.png', 'tile5083.png', 'tile5010.png', 'tile5041.png', 'tile5006.png', 'tile5035.png', 'tile5072.png', 'tile5015.png', 'tile5068.png', 'tile5065.png', 'tile5114.png', 'tile5099.png', 'tile5118.png', 'tile5093.png', 'tile5088.png', 'tile5111.png', 'tile5128.png', 'tile5115.png', 'tile5125.png', 'tile5117.png', 'tile5123.png', 'tile5087.png', 'tile5092.png', 'tile5098.png', 'tile5084.png', 'tile5103.png', 'tile5104.png', 'tile5126.png', 'tile5120.png', 'tile5094.png', 'tile5127.png', 'tile5112.png', 'tile5106.png', 'tile5124.png', 'tile5085.png', 'tile5116.png', 'tile5113.png', 'tile5090.png', 'tile5101.png', 'tile5102.png', 'tile5107.png', 'tile5091.png', 'tile5121.png', 'tile5096.png', 'tile5095.png', 'tile5097.png', 'tile5119.png', 'tile5122.png', 'tile5086.png', 'tile5100.png', 'tile5108.png', 'tile5105.png', 'tile5089.png', 'tile5109.png', 'tile5110.png', 'tile5349.png', 'tile5329.png', 'tile5374.png', 'tile5202.png', 'tile5198.png', 'tile5162.png', 'tile5230.png', 'tile5173.png', 'tile5174.png', 'tile5316.png', 'tile5145.png', 'tile5274.png', 'tile5129.png', 'tile5153.png', 'tile5240.png', 'tile5144.png', 'tile5259.png', 'tile5290.png', 'tile5250.png', 'tile5134.png', 'tile5320.png', 'tile5303.png', 'tile5156.png', 'tile5276.png', 'tile5284.png', 'tile5235.png', 'tile5269.png', 'tile5357.png', 'tile5336.png', 'tile5236.png', 'tile5160.png', 'tile5196.png', 'tile5189.png', 'tile5194.png', 'tile5229.png', 'tile5204.png', 'tile5232.png', 'tile5352.png', 'tile5132.png', 'tile5256.png', 'tile5333.png', 'tile5210.png', 'tile5257.png', 'tile5309.png', 'tile5130.png', 'tile5366.png', 'tile5277.png', 'tile5182.png', 'tile5176.png', 'tile5237.png', 'tile5178.png', 'tile5302.png', 'tile5253.png', 'tile5261.png', 'tile5339.png', 'tile5208.png', 'tile5231.png', 'tile5342.png', 'tile5312.png', 'tile5270.png', 'tile5175.png', 'tile5368.png', 'tile5364.png', 'tile5136.png', 'tile5318.png', 'tile5223.png', 'tile5306.png', 'tile5359.png', 'tile5179.png', 'tile5219.png', 'tile5340.png', 'tile5138.png'])"
            ]
          },
          "metadata": {},
          "execution_count": 17
        }
      ]
    },
    {
      "cell_type": "code",
      "source": [
        "#Storing the predicted values in the CSV \n",
        "from google.colab import files\n",
        "import pandas as pd\n",
        "result = pd.DataFrame(prediction_dict.items(), columns=['Id', 'Type'])\n",
        "\n",
        "result.to_csv('prediction.csv',index=False)\n",
        "!cp prediction.csv \"/content/drive/My Drive/\""
      ],
      "metadata": {
        "id": "gMQ4YC1jCVB1"
      },
      "execution_count": null,
      "outputs": []
    },
    {
      "cell_type": "code",
      "source": [
        "#Distribution of Each type \n",
        "result['Type'].value_counts() "
      ],
      "metadata": {
        "colab": {
          "base_uri": "https://localhost:8080/"
        },
        "id": "OVhJumUf7LcG",
        "outputId": "18cc27c9-ca8b-4e95-9805-4770884370a6"
      },
      "execution_count": null,
      "outputs": [
        {
          "output_type": "execute_result",
          "data": {
            "text/plain": [
              "Cancer        1061\n",
              "Connective     942\n",
              "Normal         601\n",
              "Immune         596\n",
              "Name: Type, dtype: int64"
            ]
          },
          "metadata": {},
          "execution_count": 19
        }
      ]
    },
    {
      "cell_type": "code",
      "source": [],
      "metadata": {
        "id": "SzvEY8wuy-M2"
      },
      "execution_count": null,
      "outputs": []
    }
  ]
}